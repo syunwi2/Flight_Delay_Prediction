{
 "cells": [
  {
   "cell_type": "markdown",
   "metadata": {},
   "source": [
    "### Import libraries"
   ]
  },
  {
   "cell_type": "code",
   "execution_count": 7,
   "metadata": {},
   "outputs": [],
   "source": [
    "import pandas as pd\n",
    "import numpy as np\n",
    "import matplotlib.pyplot as plt\n",
    "from glob import glob\n",
    "import seaborn as sns"
   ]
  },
  {
   "cell_type": "code",
   "execution_count": 12,
   "metadata": {},
   "outputs": [
    {
     "data": {
      "image/png": "[encoded data removed]",
      "text/plain": [
       "<Figure size 432x72 with 1 Axes>"
      ]
     },
     "metadata": {
      "needs_background": "light"
     },
     "output_type": "display_data"
    }
   ],
   "source": [
    "pd.set_option(\"display.max_columns\", 500) # out으로 출력하는 최대 칼럼 수\n",
    "plt.style.use(\"seaborn-colorblind\") # 스타일 시트\n",
    "pal = sns.color_palette() # seaborn에서 팔레트 설정\n",
    "sns.palplot(pal) # pal에 저장한 팔레트 불러오기"
   ]
  },
  {
   "cell_type": "markdown",
   "metadata": {},
   "source": [
    "### Read in and format data"
   ]
  },
  {
   "cell_type": "code",
   "execution_count": 3,
   "metadata": {},
   "outputs": [],
   "source": [
    "parquet_files = glob.glob('./archive/Combined_Flights_*.parquet')"
   ]
  },
  {
   "cell_type": "code",
   "execution_count": 4,
   "metadata": {},
   "outputs": [
    {
     "data": {
      "text/plain": [
       "['./archive\\\\Combined_Flights_2018.parquet',\n",
       " './archive\\\\Combined_Flights_2019.parquet',\n",
       " './archive\\\\Combined_Flights_2020.parquet',\n",
       " './archive\\\\Combined_Flights_2021.parquet']"
      ]
     },
     "execution_count": 4,
     "metadata": {},
     "output_type": "execute_result"
    }
   ],
   "source": [
    "parquet_files"
   ]
  },
  {
   "cell_type": "markdown",
   "metadata": {},
   "source": [
    "### Feature selection"
   ]
  },
  {
   "cell_type": "code",
   "execution_count": 13,
   "metadata": {},
   "outputs": [],
   "source": [
    "column_subset = [\n",
    "    \"FlightDate\",\n",
    "    \"Airline\",\n",
    "    \"Flight_Number_Marketing_Airline\",\n",
    "    \"Origin\",\n",
    "    \"Dest\",\n",
    "    \"Cancelled\",\n",
    "    \"Diverted\",\n",
    "    \"CRSDepTime\",\n",
    "    \"DepTime\",\n",
    "    \"DepDelayMinutes\",\n",
    "    \"OriginAirportID\",\n",
    "    \"OriginCityName\",\n",
    "    \"OriginStateName\",\n",
    "    \"DestAirportID\",\n",
    "    \"DestCityName\",\n",
    "    \"DestStateName\",\n",
    "    \"TaxiOut\",\n",
    "    \"TaxiIn\",\n",
    "    \"CRSArrTime\",\n",
    "    \"ArrTime\",\n",
    "    \"ArrDelayMinutes\",\n",
    "]"
   ]
  },
  {
   "cell_type": "code",
   "execution_count": 15,
   "metadata": {},
   "outputs": [
    {
     "name": "stdout",
     "output_type": "stream",
     "text": [
      "number of columns =  21\n"
     ]
    }
   ],
   "source": [
    "print(\"number of columns = \", len(column_subset))"
   ]
  },
  {
   "cell_type": "code",
   "execution_count": 14,
   "metadata": {},
   "outputs": [],
   "source": [
    "dfs = []\n",
    "\n",
    "# dfs에 데이터 저장\n",
    "for f in parquet_files:\n",
    "    dfs.append(pd.read_parquet(f, columns = column_subset))\n",
    "\n",
    "# df에 인덱스로 세팅한 열을 삭제하면서 dfs 저장\n",
    "df = pd.concat(dfs).reset_index(drop=True)\n",
    "\n",
    "cat_cols = [\"Airline\", \"Origin\", \"Dest\", \"OriginStateName\", \"DestStateName\"]\n",
    "for c in cat_cols:\n",
    "    df[c] = df[c].astype(\"category\") # 선택한 컬럼의 데이터 타입을 \"category\"로 변경\n"
   ]
  },
  {
   "cell_type": "code",
   "execution_count": 16,
   "metadata": {},
   "outputs": [
    {
     "data": {
      "text/plain": [
       "FlightDate                         datetime64[ns]\n",
       "Airline                                  category\n",
       "Flight_Number_Marketing_Airline             int64\n",
       "Origin                                   category\n",
       "Dest                                     category\n",
       "Cancelled                                    bool\n",
       "Diverted                                     bool\n",
       "CRSDepTime                                  int64\n",
       "DepTime                                   float64\n",
       "DepDelayMinutes                           float64\n",
       "OriginAirportID                             int64\n",
       "OriginCityName                             object\n",
       "OriginStateName                          category\n",
       "DestAirportID                               int64\n",
       "DestCityName                               object\n",
       "DestStateName                            category\n",
       "TaxiOut                                   float64\n",
       "TaxiIn                                    float64\n",
       "CRSArrTime                                  int64\n",
       "ArrTime                                   float64\n",
       "ArrDelayMinutes                           float64\n",
       "dtype: object"
      ]
     },
     "execution_count": 16,
     "metadata": {},
     "output_type": "execute_result"
    }
   ],
   "source": [
    "df.dtypes"
   ]
  },
  {
   "cell_type": "markdown",
   "metadata": {},
   "source": [
    "### Understand the DepDelayMinutes Variable"
   ]
  },
  {
   "cell_type": "code",
   "execution_count": 20,
   "metadata": {},
   "outputs": [
    {
     "data": {
      "image/png": "[encoded data removed]",
      "text/plain": [
       "<Figure size 432x288 with 1 Axes>"
      ]
     },
     "metadata": {
      "needs_background": "light"
     },
     "output_type": "display_data"
    }
   ],
   "source": [
    "df.query(\"DepDelayMinutes < 60\")[\"DepDelayMinutes\"].plot(\n",
    "    kind=\"hist\", bins=60, title=\"Distribution of Flight Delays < 60 Min\"\n",
    ")\n",
    "plt.show()"
   ]
  },
  {
   "cell_type": "code",
   "execution_count": null,
   "metadata": {},
   "outputs": [],
   "source": [
    "df.query(\"DepDelayMinutes > 1 and DepDelayMinutes < 61\")[\"DepDelayMinutes\"].plot(\n",
    "    kind=\"hist\", bins=30, title=\"Distribution of Flight Delays < 30 Min\"\n",
    ")\n",
    "plt.show()"
   ]
  }
 ],
 "metadata": {
  "kernelspec": {
   "display_name": "Python 3.10.4 64-bit",
   "language": "python",
   "name": "python3"
  },
  "language_info": {
   "codemirror_mode": {
    "name": "ipython",
    "version": 3
   },
   "file_extension": ".py",
   "mimetype": "text/x-python",
   "name": "python",
   "nbconvert_exporter": "python",
   "pygments_lexer": "ipython3",
   "version": "3.10.4"
  },
  "orig_nbformat": 4,
  "vscode": {
   "interpreter": {
    "hash": "5f91c9cbed266161a47f5e047f341e29f3c68d5bdd4a742effdb60919aaae7d9"
   }
  }
 },
 "nbformat": 4,
 "nbformat_minor": 2
}
