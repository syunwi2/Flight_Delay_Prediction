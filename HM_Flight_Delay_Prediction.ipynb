{
 "cells": [
  {
   "cell_type": "markdown",
   "metadata": {},
   "source": [
    "### Import libraries"
   ]
  },
  {
   "cell_type": "code",
   "execution_count": 40,
   "metadata": {},
   "outputs": [],
   "source": [
    "import pandas as pd\n",
    "import numpy as np\n",
    "import matplotlib.pyplot as plt\n",
    "from glob import glob\n",
    "import seaborn as sns"
   ]
  },
  {
   "cell_type": "code",
   "execution_count": 41,
   "metadata": {},
   "outputs": [
    {
     "data": {
      "image/png": "[encoded data removed]",
      "text/plain": [
       "<Figure size 432x72 with 1 Axes>"
      ]
     },
     "metadata": {
      "needs_background": "light"
     },
     "output_type": "display_data"
    }
   ],
   "source": [
    "pd.set_option(\"display.max_columns\", 500) # out으로 출력하는 최대 칼럼 수\n",
    "plt.style.use(\"seaborn-colorblind\") # 스타일 시트\n",
    "pal = sns.color_palette() # seaborn에서 팔레트 설정\n",
    "sns.palplot(pal) # pal에 저장한 팔레트 불러오기"
   ]
  },
  {
   "cell_type": "markdown",
   "metadata": {},
   "source": [
    "### Read in and format data"
   ]
  },
  {
   "cell_type": "code",
   "execution_count": 42,
   "metadata": {},
   "outputs": [],
   "source": [
    "parquet_files = glob('./archive/Combined_Flights_*.parquet')"
   ]
  },
  {
   "cell_type": "code",
   "execution_count": 43,
   "metadata": {},
   "outputs": [
    {
     "data": {
      "text/plain": [
       "['./archive\\\\Combined_Flights_2018.parquet',\n",
       " './archive\\\\Combined_Flights_2019.parquet',\n",
       " './archive\\\\Combined_Flights_2020.parquet',\n",
       " './archive\\\\Combined_Flights_2021.parquet']"
      ]
     },
     "execution_count": 43,
     "metadata": {},
     "output_type": "execute_result"
    }
   ],
   "source": [
    "parquet_files"
   ]
  },
  {
   "cell_type": "markdown",
   "metadata": {},
   "source": [
    "### Feature selection"
   ]
  },
  {
   "cell_type": "code",
   "execution_count": 44,
   "metadata": {},
   "outputs": [],
   "source": [
    "column_subset = [\n",
    "    \"FlightDate\",\n",
    "    \"Airline\",\n",
    "    \"Flight_Number_Marketing_Airline\",\n",
    "    \"Origin\",\n",
    "    \"Dest\",\n",
    "    \"Cancelled\",\n",
    "    \"Diverted\",\n",
    "    \"CRSDepTime\",\n",
    "    \"DepTime\",\n",
    "    \"DepDelayMinutes\",\n",
    "    \"OriginAirportID\",\n",
    "    \"OriginCityName\",\n",
    "    \"OriginStateName\",\n",
    "    \"DestAirportID\",\n",
    "    \"DestCityName\",\n",
    "    \"DestStateName\",\n",
    "    \"TaxiOut\",\n",
    "    \"TaxiIn\",\n",
    "    \"CRSArrTime\",\n",
    "    \"ArrTime\",\n",
    "    \"ArrDelayMinutes\",\n",
    "]"
   ]
  },
  {
   "cell_type": "code",
   "execution_count": 45,
   "metadata": {},
   "outputs": [
    {
     "name": "stdout",
     "output_type": "stream",
     "text": [
      "number of columns =  21\n"
     ]
    }
   ],
   "source": [
    "print(\"number of columns = \", len(column_subset))"
   ]
  },
  {
   "cell_type": "code",
   "execution_count": 46,
   "metadata": {},
   "outputs": [],
   "source": [
    "dfs = []\n",
    "\n",
    "# dfs에 데이터 저장\n",
    "for f in parquet_files:\n",
    "    dfs.append(pd.read_parquet(f, columns = column_subset))\n",
    "\n",
    "# df에 인덱스로 세팅한 열을 삭제하면서 dfs 저장\n",
    "df = pd.concat(dfs).reset_index(drop=True)\n",
    "\n",
    "cat_cols = [\"Airline\", \"Origin\", \"Dest\", \"OriginStateName\", \"DestStateName\"]\n",
    "for c in cat_cols:\n",
    "    df[c] = df[c].astype(\"category\") # 선택한 컬럼의 데이터 타입을 \"category\"로 변경\n"
   ]
  },
  {
   "cell_type": "code",
   "execution_count": 47,
   "metadata": {},
   "outputs": [
    {
     "data": {
      "text/plain": [
       "FlightDate                         datetime64[ns]\n",
       "Airline                                  category\n",
       "Flight_Number_Marketing_Airline             int64\n",
       "Origin                                   category\n",
       "Dest                                     category\n",
       "Cancelled                                    bool\n",
       "Diverted                                     bool\n",
       "CRSDepTime                                  int64\n",
       "DepTime                                   float64\n",
       "DepDelayMinutes                           float64\n",
       "OriginAirportID                             int64\n",
       "OriginCityName                             object\n",
       "OriginStateName                          category\n",
       "DestAirportID                               int64\n",
       "DestCityName                               object\n",
       "DestStateName                            category\n",
       "TaxiOut                                   float64\n",
       "TaxiIn                                    float64\n",
       "CRSArrTime                                  int64\n",
       "ArrTime                                   float64\n",
       "ArrDelayMinutes                           float64\n",
       "dtype: object"
      ]
     },
     "execution_count": 47,
     "metadata": {},
     "output_type": "execute_result"
    }
   ],
   "source": [
    "df.dtypes"
   ]
  },
  {
   "cell_type": "code",
   "execution_count": 48,
   "metadata": {},
   "outputs": [
    {
     "data": {
      "text/html": [
       "<div>\n",
       "<style scoped>\n",
       "    .dataframe tbody tr th:only-of-type {\n",
       "        vertical-align: middle;\n",
       "    }\n",
       "\n",
       "    .dataframe tbody tr th {\n",
       "        vertical-align: top;\n",
       "    }\n",
       "\n",
       "    .dataframe thead th {\n",
       "        text-align: right;\n",
       "    }\n",
       "</style>\n",
       "<table border=\"1\" class=\"dataframe\">\n",
       "  <thead>\n",
       "    <tr style=\"text-align: right;\">\n",
       "      <th></th>\n",
       "      <th>FlightDate</th>\n",
       "      <th>Airline</th>\n",
       "      <th>Flight_Number_Marketing_Airline</th>\n",
       "      <th>Origin</th>\n",
       "      <th>Dest</th>\n",
       "      <th>Cancelled</th>\n",
       "      <th>Diverted</th>\n",
       "      <th>CRSDepTime</th>\n",
       "      <th>DepTime</th>\n",
       "      <th>DepDelayMinutes</th>\n",
       "      <th>OriginAirportID</th>\n",
       "      <th>OriginCityName</th>\n",
       "      <th>OriginStateName</th>\n",
       "      <th>DestAirportID</th>\n",
       "      <th>DestCityName</th>\n",
       "      <th>DestStateName</th>\n",
       "      <th>TaxiOut</th>\n",
       "      <th>TaxiIn</th>\n",
       "      <th>CRSArrTime</th>\n",
       "      <th>ArrTime</th>\n",
       "      <th>ArrDelayMinutes</th>\n",
       "    </tr>\n",
       "  </thead>\n",
       "  <tbody>\n",
       "    <tr>\n",
       "      <th>0</th>\n",
       "      <td>2018-01-23</td>\n",
       "      <td>Endeavor Air Inc.</td>\n",
       "      <td>3298</td>\n",
       "      <td>ABY</td>\n",
       "      <td>ATL</td>\n",
       "      <td>False</td>\n",
       "      <td>False</td>\n",
       "      <td>1202</td>\n",
       "      <td>1157.0</td>\n",
       "      <td>0.0</td>\n",
       "      <td>10146</td>\n",
       "      <td>Albany, GA</td>\n",
       "      <td>Georgia</td>\n",
       "      <td>10397</td>\n",
       "      <td>Atlanta, GA</td>\n",
       "      <td>Georgia</td>\n",
       "      <td>14.0</td>\n",
       "      <td>7.0</td>\n",
       "      <td>1304</td>\n",
       "      <td>1256.0</td>\n",
       "      <td>0.0</td>\n",
       "    </tr>\n",
       "    <tr>\n",
       "      <th>1</th>\n",
       "      <td>2018-01-24</td>\n",
       "      <td>Endeavor Air Inc.</td>\n",
       "      <td>3298</td>\n",
       "      <td>ABY</td>\n",
       "      <td>ATL</td>\n",
       "      <td>False</td>\n",
       "      <td>False</td>\n",
       "      <td>1202</td>\n",
       "      <td>1157.0</td>\n",
       "      <td>0.0</td>\n",
       "      <td>10146</td>\n",
       "      <td>Albany, GA</td>\n",
       "      <td>Georgia</td>\n",
       "      <td>10397</td>\n",
       "      <td>Atlanta, GA</td>\n",
       "      <td>Georgia</td>\n",
       "      <td>13.0</td>\n",
       "      <td>12.0</td>\n",
       "      <td>1304</td>\n",
       "      <td>1258.0</td>\n",
       "      <td>0.0</td>\n",
       "    </tr>\n",
       "    <tr>\n",
       "      <th>2</th>\n",
       "      <td>2018-01-25</td>\n",
       "      <td>Endeavor Air Inc.</td>\n",
       "      <td>3298</td>\n",
       "      <td>ABY</td>\n",
       "      <td>ATL</td>\n",
       "      <td>False</td>\n",
       "      <td>False</td>\n",
       "      <td>1202</td>\n",
       "      <td>1153.0</td>\n",
       "      <td>0.0</td>\n",
       "      <td>10146</td>\n",
       "      <td>Albany, GA</td>\n",
       "      <td>Georgia</td>\n",
       "      <td>10397</td>\n",
       "      <td>Atlanta, GA</td>\n",
       "      <td>Georgia</td>\n",
       "      <td>18.0</td>\n",
       "      <td>11.0</td>\n",
       "      <td>1304</td>\n",
       "      <td>1302.0</td>\n",
       "      <td>0.0</td>\n",
       "    </tr>\n",
       "    <tr>\n",
       "      <th>3</th>\n",
       "      <td>2018-01-26</td>\n",
       "      <td>Endeavor Air Inc.</td>\n",
       "      <td>3298</td>\n",
       "      <td>ABY</td>\n",
       "      <td>ATL</td>\n",
       "      <td>False</td>\n",
       "      <td>False</td>\n",
       "      <td>1202</td>\n",
       "      <td>1150.0</td>\n",
       "      <td>0.0</td>\n",
       "      <td>10146</td>\n",
       "      <td>Albany, GA</td>\n",
       "      <td>Georgia</td>\n",
       "      <td>10397</td>\n",
       "      <td>Atlanta, GA</td>\n",
       "      <td>Georgia</td>\n",
       "      <td>17.0</td>\n",
       "      <td>11.0</td>\n",
       "      <td>1304</td>\n",
       "      <td>1253.0</td>\n",
       "      <td>0.0</td>\n",
       "    </tr>\n",
       "    <tr>\n",
       "      <th>4</th>\n",
       "      <td>2018-01-27</td>\n",
       "      <td>Endeavor Air Inc.</td>\n",
       "      <td>3298</td>\n",
       "      <td>ABY</td>\n",
       "      <td>ATL</td>\n",
       "      <td>False</td>\n",
       "      <td>False</td>\n",
       "      <td>1400</td>\n",
       "      <td>1355.0</td>\n",
       "      <td>0.0</td>\n",
       "      <td>10146</td>\n",
       "      <td>Albany, GA</td>\n",
       "      <td>Georgia</td>\n",
       "      <td>10397</td>\n",
       "      <td>Atlanta, GA</td>\n",
       "      <td>Georgia</td>\n",
       "      <td>17.0</td>\n",
       "      <td>11.0</td>\n",
       "      <td>1500</td>\n",
       "      <td>1459.0</td>\n",
       "      <td>0.0</td>\n",
       "    </tr>\n",
       "  </tbody>\n",
       "</table>\n",
       "</div>"
      ],
      "text/plain": [
       "  FlightDate            Airline  Flight_Number_Marketing_Airline Origin Dest  \\\n",
       "0 2018-01-23  Endeavor Air Inc.                             3298    ABY  ATL   \n",
       "1 2018-01-24  Endeavor Air Inc.                             3298    ABY  ATL   \n",
       "2 2018-01-25  Endeavor Air Inc.                             3298    ABY  ATL   \n",
       "3 2018-01-26  Endeavor Air Inc.                             3298    ABY  ATL   \n",
       "4 2018-01-27  Endeavor Air Inc.                             3298    ABY  ATL   \n",
       "\n",
       "   Cancelled  Diverted  CRSDepTime  DepTime  DepDelayMinutes  OriginAirportID  \\\n",
       "0      False     False        1202   1157.0              0.0            10146   \n",
       "1      False     False        1202   1157.0              0.0            10146   \n",
       "2      False     False        1202   1153.0              0.0            10146   \n",
       "3      False     False        1202   1150.0              0.0            10146   \n",
       "4      False     False        1400   1355.0              0.0            10146   \n",
       "\n",
       "  OriginCityName OriginStateName  DestAirportID DestCityName DestStateName  \\\n",
       "0     Albany, GA         Georgia          10397  Atlanta, GA       Georgia   \n",
       "1     Albany, GA         Georgia          10397  Atlanta, GA       Georgia   \n",
       "2     Albany, GA         Georgia          10397  Atlanta, GA       Georgia   \n",
       "3     Albany, GA         Georgia          10397  Atlanta, GA       Georgia   \n",
       "4     Albany, GA         Georgia          10397  Atlanta, GA       Georgia   \n",
       "\n",
       "   TaxiOut  TaxiIn  CRSArrTime  ArrTime  ArrDelayMinutes  \n",
       "0     14.0     7.0        1304   1256.0              0.0  \n",
       "1     13.0    12.0        1304   1258.0              0.0  \n",
       "2     18.0    11.0        1304   1302.0              0.0  \n",
       "3     17.0    11.0        1304   1253.0              0.0  \n",
       "4     17.0    11.0        1500   1459.0              0.0  "
      ]
     },
     "execution_count": 48,
     "metadata": {},
     "output_type": "execute_result"
    }
   ],
   "source": [
    "df.head()"
   ]
  },
  {
   "cell_type": "markdown",
   "metadata": {},
   "source": [
    "### Understand the DepDelayMinutes Variable"
   ]
  },
  {
   "cell_type": "code",
   "execution_count": 49,
   "metadata": {},
   "outputs": [
    {
     "data": {
      "image/png": "[encoded data removed]",
      "text/plain": [
       "<Figure size 432x288 with 1 Axes>"
      ]
     },
     "metadata": {
      "needs_background": "light"
     },
     "output_type": "display_data"
    }
   ],
   "source": [
    "df.query(\"DepDelayMinutes < 60\")[\"DepDelayMinutes\"].plot(\n",
    "    xlabel = 'time', kind=\"hist\", bins=20,  title=\"Distribution of Flight Delays(0 ~ 60 Min)\"\n",
    ")\n",
    "# \"hist\": 히스토그램, bins: 히스토그램의 가로축 구간의 개수\n",
    "plt.show()"
   ]
  },
  {
   "cell_type": "code",
   "execution_count": 52,
   "metadata": {},
   "outputs": [
    {
     "data": {
      "image/png": "[encoded data removed]",
      "text/plain": [
       "<Figure size 432x288 with 1 Axes>"
      ]
     },
     "metadata": {
      "needs_background": "light"
     },
     "output_type": "display_data"
    }
   ],
   "source": [
    "df.query(\"DepDelayMinutes > 1 and DepDelayMinutes < 61\")[\"DepDelayMinutes\"].plot(\n",
    "    kind=\"hist\", bins=60, title=\"Distribution of Flight Delays (1 ~ 60 Min)\"\n",
    ")\n",
    "plt.show()"
   ]
  },
  {
   "cell_type": "code",
   "execution_count": 57,
   "metadata": {},
   "outputs": [
    {
     "data": {
      "image/png": "[encoded data removed]",
      "text/plain": [
       "<Figure size 432x288 with 1 Axes>"
      ]
     },
     "metadata": {
      "needs_background": "light"
     },
     "output_type": "display_data"
    }
   ],
   "source": [
    "df.query(\"DepDelayMinutes > 60\")[\"DepDelayMinutes\"].plot(\n",
    "    kind=\"hist\", bins=50, range = [60, 1000], title=\"Distribution of Flight Delays > 60 Min\"\n",
    ")\n",
    "plt.show()"
   ]
  },
  {
   "cell_type": "markdown",
   "metadata": {},
   "source": [
    "### Grouping of Delays and Cancellations\n",
    "##### On time / Small delay(0-15) / Medium delay(15-45) / Large delay(>60) / Cancelled"
   ]
  },
  {
   "cell_type": "code",
   "execution_count": 77,
   "metadata": {},
   "outputs": [],
   "source": [
    "df[\"DelayGroup\"] = None\n",
    "\n",
    "# df.loc: 행 또는 열의 데이터 조회 및 값 설정\n",
    "df.loc[df[\"DepDelayMinutes\"] == 0, \"DelayGroup\"] = \"OnTime_Early\"\n",
    "df.loc[(df[\"DepDelayMinutes\"] > 0) & (df[\"DepDelayMinutes\"] <= 15), \"DelayGroup\"] = \"Small_Delay\"\n",
    "df.loc[(df[\"DepDelayMinutes\"] > 15) & (df[\"DepDelayMinutes\"] <= 45), \"DelayGroup\"] = \"Medium_Delay\"\n",
    "df.loc[df[\"DepDelayMinutes\"] > 60, \"DelayGroup\"] = \"Large_Delay\"\n",
    "df.loc[df[\"Cancelled\"], \"DelayGroup\"] = \"Cancelled\""
   ]
  },
  {
   "cell_type": "code",
   "execution_count": 59,
   "metadata": {},
   "outputs": [
    {
     "data": {
      "text/html": [
       "<div>\n",
       "<style scoped>\n",
       "    .dataframe tbody tr th:only-of-type {\n",
       "        vertical-align: middle;\n",
       "    }\n",
       "\n",
       "    .dataframe tbody tr th {\n",
       "        vertical-align: top;\n",
       "    }\n",
       "\n",
       "    .dataframe thead th {\n",
       "        text-align: right;\n",
       "    }\n",
       "</style>\n",
       "<table border=\"1\" class=\"dataframe\">\n",
       "  <thead>\n",
       "    <tr style=\"text-align: right;\">\n",
       "      <th></th>\n",
       "      <th>FlightDate</th>\n",
       "      <th>Airline</th>\n",
       "      <th>Flight_Number_Marketing_Airline</th>\n",
       "      <th>Origin</th>\n",
       "      <th>Dest</th>\n",
       "      <th>Cancelled</th>\n",
       "      <th>Diverted</th>\n",
       "      <th>CRSDepTime</th>\n",
       "      <th>DepTime</th>\n",
       "      <th>DepDelayMinutes</th>\n",
       "      <th>OriginAirportID</th>\n",
       "      <th>OriginCityName</th>\n",
       "      <th>OriginStateName</th>\n",
       "      <th>DestAirportID</th>\n",
       "      <th>DestCityName</th>\n",
       "      <th>DestStateName</th>\n",
       "      <th>TaxiOut</th>\n",
       "      <th>TaxiIn</th>\n",
       "      <th>CRSArrTime</th>\n",
       "      <th>ArrTime</th>\n",
       "      <th>ArrDelayMinutes</th>\n",
       "      <th>DelayGroup</th>\n",
       "    </tr>\n",
       "  </thead>\n",
       "  <tbody>\n",
       "    <tr>\n",
       "      <th>0</th>\n",
       "      <td>2018-01-23</td>\n",
       "      <td>Endeavor Air Inc.</td>\n",
       "      <td>3298</td>\n",
       "      <td>ABY</td>\n",
       "      <td>ATL</td>\n",
       "      <td>False</td>\n",
       "      <td>False</td>\n",
       "      <td>1202</td>\n",
       "      <td>1157.0</td>\n",
       "      <td>0.0</td>\n",
       "      <td>10146</td>\n",
       "      <td>Albany, GA</td>\n",
       "      <td>Georgia</td>\n",
       "      <td>10397</td>\n",
       "      <td>Atlanta, GA</td>\n",
       "      <td>Georgia</td>\n",
       "      <td>14.0</td>\n",
       "      <td>7.0</td>\n",
       "      <td>1304</td>\n",
       "      <td>1256.0</td>\n",
       "      <td>0.0</td>\n",
       "      <td>OnTime_Early</td>\n",
       "    </tr>\n",
       "    <tr>\n",
       "      <th>1</th>\n",
       "      <td>2018-01-24</td>\n",
       "      <td>Endeavor Air Inc.</td>\n",
       "      <td>3298</td>\n",
       "      <td>ABY</td>\n",
       "      <td>ATL</td>\n",
       "      <td>False</td>\n",
       "      <td>False</td>\n",
       "      <td>1202</td>\n",
       "      <td>1157.0</td>\n",
       "      <td>0.0</td>\n",
       "      <td>10146</td>\n",
       "      <td>Albany, GA</td>\n",
       "      <td>Georgia</td>\n",
       "      <td>10397</td>\n",
       "      <td>Atlanta, GA</td>\n",
       "      <td>Georgia</td>\n",
       "      <td>13.0</td>\n",
       "      <td>12.0</td>\n",
       "      <td>1304</td>\n",
       "      <td>1258.0</td>\n",
       "      <td>0.0</td>\n",
       "      <td>OnTime_Early</td>\n",
       "    </tr>\n",
       "    <tr>\n",
       "      <th>2</th>\n",
       "      <td>2018-01-25</td>\n",
       "      <td>Endeavor Air Inc.</td>\n",
       "      <td>3298</td>\n",
       "      <td>ABY</td>\n",
       "      <td>ATL</td>\n",
       "      <td>False</td>\n",
       "      <td>False</td>\n",
       "      <td>1202</td>\n",
       "      <td>1153.0</td>\n",
       "      <td>0.0</td>\n",
       "      <td>10146</td>\n",
       "      <td>Albany, GA</td>\n",
       "      <td>Georgia</td>\n",
       "      <td>10397</td>\n",
       "      <td>Atlanta, GA</td>\n",
       "      <td>Georgia</td>\n",
       "      <td>18.0</td>\n",
       "      <td>11.0</td>\n",
       "      <td>1304</td>\n",
       "      <td>1302.0</td>\n",
       "      <td>0.0</td>\n",
       "      <td>OnTime_Early</td>\n",
       "    </tr>\n",
       "    <tr>\n",
       "      <th>3</th>\n",
       "      <td>2018-01-26</td>\n",
       "      <td>Endeavor Air Inc.</td>\n",
       "      <td>3298</td>\n",
       "      <td>ABY</td>\n",
       "      <td>ATL</td>\n",
       "      <td>False</td>\n",
       "      <td>False</td>\n",
       "      <td>1202</td>\n",
       "      <td>1150.0</td>\n",
       "      <td>0.0</td>\n",
       "      <td>10146</td>\n",
       "      <td>Albany, GA</td>\n",
       "      <td>Georgia</td>\n",
       "      <td>10397</td>\n",
       "      <td>Atlanta, GA</td>\n",
       "      <td>Georgia</td>\n",
       "      <td>17.0</td>\n",
       "      <td>11.0</td>\n",
       "      <td>1304</td>\n",
       "      <td>1253.0</td>\n",
       "      <td>0.0</td>\n",
       "      <td>OnTime_Early</td>\n",
       "    </tr>\n",
       "    <tr>\n",
       "      <th>4</th>\n",
       "      <td>2018-01-27</td>\n",
       "      <td>Endeavor Air Inc.</td>\n",
       "      <td>3298</td>\n",
       "      <td>ABY</td>\n",
       "      <td>ATL</td>\n",
       "      <td>False</td>\n",
       "      <td>False</td>\n",
       "      <td>1400</td>\n",
       "      <td>1355.0</td>\n",
       "      <td>0.0</td>\n",
       "      <td>10146</td>\n",
       "      <td>Albany, GA</td>\n",
       "      <td>Georgia</td>\n",
       "      <td>10397</td>\n",
       "      <td>Atlanta, GA</td>\n",
       "      <td>Georgia</td>\n",
       "      <td>17.0</td>\n",
       "      <td>11.0</td>\n",
       "      <td>1500</td>\n",
       "      <td>1459.0</td>\n",
       "      <td>0.0</td>\n",
       "      <td>OnTime_Early</td>\n",
       "    </tr>\n",
       "  </tbody>\n",
       "</table>\n",
       "</div>"
      ],
      "text/plain": [
       "  FlightDate            Airline  Flight_Number_Marketing_Airline Origin Dest  \\\n",
       "0 2018-01-23  Endeavor Air Inc.                             3298    ABY  ATL   \n",
       "1 2018-01-24  Endeavor Air Inc.                             3298    ABY  ATL   \n",
       "2 2018-01-25  Endeavor Air Inc.                             3298    ABY  ATL   \n",
       "3 2018-01-26  Endeavor Air Inc.                             3298    ABY  ATL   \n",
       "4 2018-01-27  Endeavor Air Inc.                             3298    ABY  ATL   \n",
       "\n",
       "   Cancelled  Diverted  CRSDepTime  DepTime  DepDelayMinutes  OriginAirportID  \\\n",
       "0      False     False        1202   1157.0              0.0            10146   \n",
       "1      False     False        1202   1157.0              0.0            10146   \n",
       "2      False     False        1202   1153.0              0.0            10146   \n",
       "3      False     False        1202   1150.0              0.0            10146   \n",
       "4      False     False        1400   1355.0              0.0            10146   \n",
       "\n",
       "  OriginCityName OriginStateName  DestAirportID DestCityName DestStateName  \\\n",
       "0     Albany, GA         Georgia          10397  Atlanta, GA       Georgia   \n",
       "1     Albany, GA         Georgia          10397  Atlanta, GA       Georgia   \n",
       "2     Albany, GA         Georgia          10397  Atlanta, GA       Georgia   \n",
       "3     Albany, GA         Georgia          10397  Atlanta, GA       Georgia   \n",
       "4     Albany, GA         Georgia          10397  Atlanta, GA       Georgia   \n",
       "\n",
       "   TaxiOut  TaxiIn  CRSArrTime  ArrTime  ArrDelayMinutes    DelayGroup  \n",
       "0     14.0     7.0        1304   1256.0              0.0  OnTime_Early  \n",
       "1     13.0    12.0        1304   1258.0              0.0  OnTime_Early  \n",
       "2     18.0    11.0        1304   1302.0              0.0  OnTime_Early  \n",
       "3     17.0    11.0        1304   1253.0              0.0  OnTime_Early  \n",
       "4     17.0    11.0        1500   1459.0              0.0  OnTime_Early  "
      ]
     },
     "execution_count": 59,
     "metadata": {},
     "output_type": "execute_result"
    }
   ],
   "source": [
    "df.head()"
   ]
  },
  {
   "cell_type": "markdown",
   "metadata": {},
   "source": [
    "#### delay group value count"
   ]
  },
  {
   "cell_type": "code",
   "execution_count": 78,
   "metadata": {},
   "outputs": [
    {
     "data": {
      "image/png": "[encoded data removed]",
      "text/plain": [
       "<Figure size 720x360 with 1 Axes>"
      ]
     },
     "metadata": {
      "needs_background": "light"
     },
     "output_type": "display_data"
    }
   ],
   "source": [
    "df[\"DelayGroup\"].value_counts(ascending=True).plot(\n",
    "    kind=\"barh\", figsize=(10, 5), color=pal[1], title=\"Flight Results (2018-2021)\"\n",
    ")\n",
    "plt.show()"
   ]
  },
  {
   "cell_type": "markdown",
   "metadata": {},
   "source": [
    "### Number of scheduled flights per year"
   ]
  },
  {
   "cell_type": "code",
   "execution_count": 79,
   "metadata": {},
   "outputs": [
    {
     "data": {
      "image/png": "[encoded data removed]",
      "text/plain": [
       "<Figure size 360x288 with 1 Axes>"
      ]
     },
     "metadata": {
      "needs_background": "light"
     },
     "output_type": "display_data"
    }
   ],
   "source": [
    "df[\"Year\"] = df['FlightDate'].dt.year # Year 컬럼 생성\n",
    "df[\"Year\"].value_counts().sort_index().plot(\n",
    "    kind=\"bar\", figsize=(5, 4), title=\"Scheduled Flights Per Year\"\n",
    ")\n",
    "plt.show()"
   ]
  },
  {
   "cell_type": "markdown",
   "metadata": {},
   "source": [
    "### Ratio of flights result by year"
   ]
  },
  {
   "cell_type": "code",
   "execution_count": 81,
   "metadata": {},
   "outputs": [],
   "source": [
    "df_agg = df.groupby(\"Year\")[\"DelayGroup\"].value_counts(normalize=True).unstack() * 100\n",
    "col_order = [\"OnTime_Early\", \"Small_Delay\", \"Medium_Delay\", \"Large_Delay\", \"Cancelled\"]\n"
   ]
  },
  {
   "cell_type": "code",
   "execution_count": 82,
   "metadata": {},
   "outputs": [
    {
     "data": {
      "text/html": [
       "<div>\n",
       "<style scoped>\n",
       "    .dataframe tbody tr th:only-of-type {\n",
       "        vertical-align: middle;\n",
       "    }\n",
       "\n",
       "    .dataframe tbody tr th {\n",
       "        vertical-align: top;\n",
       "    }\n",
       "\n",
       "    .dataframe thead th {\n",
       "        text-align: right;\n",
       "    }\n",
       "</style>\n",
       "<table border=\"1\" class=\"dataframe\">\n",
       "  <thead>\n",
       "    <tr style=\"text-align: right;\">\n",
       "      <th>DelayGroup</th>\n",
       "      <th>OnTime_Early</th>\n",
       "      <th>Small_Delay</th>\n",
       "      <th>Medium_Delay</th>\n",
       "      <th>Large_Delay</th>\n",
       "      <th>Cancelled</th>\n",
       "    </tr>\n",
       "    <tr>\n",
       "      <th>Year</th>\n",
       "      <th></th>\n",
       "      <th></th>\n",
       "      <th></th>\n",
       "      <th></th>\n",
       "      <th></th>\n",
       "    </tr>\n",
       "  </thead>\n",
       "  <tbody>\n",
       "    <tr>\n",
       "      <th>2018</th>\n",
       "      <td>65.498929</td>\n",
       "      <td>16.830027</td>\n",
       "      <td>9.744243</td>\n",
       "      <td>6.339716</td>\n",
       "      <td>1.587084</td>\n",
       "    </tr>\n",
       "    <tr>\n",
       "      <th>2019</th>\n",
       "      <td>65.997377</td>\n",
       "      <td>16.051834</td>\n",
       "      <td>9.275188</td>\n",
       "      <td>6.736522</td>\n",
       "      <td>1.939079</td>\n",
       "    </tr>\n",
       "    <tr>\n",
       "      <th>2020</th>\n",
       "      <td>76.777245</td>\n",
       "      <td>9.745438</td>\n",
       "      <td>4.615904</td>\n",
       "      <td>2.810025</td>\n",
       "      <td>6.051388</td>\n",
       "    </tr>\n",
       "    <tr>\n",
       "      <th>2021</th>\n",
       "      <td>66.971616</td>\n",
       "      <td>16.458264</td>\n",
       "      <td>9.090740</td>\n",
       "      <td>5.686410</td>\n",
       "      <td>1.792970</td>\n",
       "    </tr>\n",
       "  </tbody>\n",
       "</table>\n",
       "</div>"
      ],
      "text/plain": [
       "DelayGroup  OnTime_Early  Small_Delay  Medium_Delay  Large_Delay  Cancelled\n",
       "Year                                                                       \n",
       "2018           65.498929    16.830027      9.744243     6.339716   1.587084\n",
       "2019           65.997377    16.051834      9.275188     6.736522   1.939079\n",
       "2020           76.777245     9.745438      4.615904     2.810025   6.051388\n",
       "2021           66.971616    16.458264      9.090740     5.686410   1.792970"
      ]
     },
     "execution_count": 82,
     "metadata": {},
     "output_type": "execute_result"
    }
   ],
   "source": [
    "df_agg[col_order]"
   ]
  },
  {
   "cell_type": "code",
   "execution_count": null,
   "metadata": {},
   "outputs": [],
   "source": []
  }
 ],
 "metadata": {
  "kernelspec": {
   "display_name": "Python 3.10.4 64-bit",
   "language": "python",
   "name": "python3"
  },
  "language_info": {
   "codemirror_mode": {
    "name": "ipython",
    "version": 3
   },
   "file_extension": ".py",
   "mimetype": "text/x-python",
   "name": "python",
   "nbconvert_exporter": "python",
   "pygments_lexer": "ipython3",
   "version": "3.10.4"
  },
  "orig_nbformat": 4,
  "vscode": {
   "interpreter": {
    "hash": "5f91c9cbed266161a47f5e047f341e29f3c68d5bdd4a742effdb60919aaae7d9"
   }
  }
 },
 "nbformat": 4,
 "nbformat_minor": 2
}
