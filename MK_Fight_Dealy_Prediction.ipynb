{
 "cells": [
  {
   "cell_type": "markdown",
   "metadata": {},
   "source": [
    "# Flight Dalay & Cancellation Prediction"
   ]
  },
  {
   "cell_type": "markdown",
   "metadata": {},
   "source": [
    "## import libraries"
   ]
  },
  {
   "cell_type": "code",
   "execution_count": 4,
   "metadata": {},
   "outputs": [],
   "source": [
    "#pip install fastparquet"
   ]
  },
  {
   "cell_type": "code",
   "execution_count": 5,
   "metadata": {},
   "outputs": [],
   "source": [
    "import pandas as pd\n",
    "import numpy as np\n",
    "import matplotlib.pyplot as plt\n",
    "import glob"
   ]
  },
  {
   "cell_type": "markdown",
   "metadata": {},
   "source": [
    "## load data"
   ]
  },
  {
   "cell_type": "code",
   "execution_count": 6,
   "metadata": {},
   "outputs": [
    {
     "data": {
      "text/plain": [
       "['./archive\\\\Combined_Flights_2018.parquet',\n",
       " './archive\\\\Combined_Flights_2019.parquet',\n",
       " './archive\\\\Combined_Flights_2020.parquet',\n",
       " './archive\\\\Combined_Flights_2021.parquet',\n",
       " './archive\\\\Combined_Flights_2022.parquet']"
      ]
     },
     "execution_count": 6,
     "metadata": {},
     "output_type": "execute_result"
    }
   ],
   "source": [
    "parquet_files = glob.glob('./archive/Combined_Flights_*.parquet')\n",
    "parquet_files"
   ]
  },
  {
   "cell_type": "code",
   "execution_count": 7,
   "metadata": {},
   "outputs": [
    {
     "data": {
      "text/html": [
       "<div>\n",
       "<style scoped>\n",
       "    .dataframe tbody tr th:only-of-type {\n",
       "        vertical-align: middle;\n",
       "    }\n",
       "\n",
       "    .dataframe tbody tr th {\n",
       "        vertical-align: top;\n",
       "    }\n",
       "\n",
       "    .dataframe thead th {\n",
       "        text-align: right;\n",
       "    }\n",
       "</style>\n",
       "<table border=\"1\" class=\"dataframe\">\n",
       "  <thead>\n",
       "    <tr style=\"text-align: right;\">\n",
       "      <th></th>\n",
       "      <th>FlightDate</th>\n",
       "      <th>Airline</th>\n",
       "      <th>Origin</th>\n",
       "      <th>Dest</th>\n",
       "      <th>Cancelled</th>\n",
       "      <th>Diverted</th>\n",
       "      <th>CRSDepTime</th>\n",
       "      <th>DepTime</th>\n",
       "      <th>DepDelayMinutes</th>\n",
       "      <th>DepDelay</th>\n",
       "      <th>...</th>\n",
       "      <th>WheelsOff</th>\n",
       "      <th>WheelsOn</th>\n",
       "      <th>TaxiIn</th>\n",
       "      <th>CRSArrTime</th>\n",
       "      <th>ArrDelay</th>\n",
       "      <th>ArrDel15</th>\n",
       "      <th>ArrivalDelayGroups</th>\n",
       "      <th>ArrTimeBlk</th>\n",
       "      <th>DistanceGroup</th>\n",
       "      <th>DivAirportLandings</th>\n",
       "    </tr>\n",
       "  </thead>\n",
       "  <tbody>\n",
       "    <tr>\n",
       "      <th>27079413</th>\n",
       "      <td>2022-05-02</td>\n",
       "      <td>Capital Cargo International</td>\n",
       "      <td>GSP</td>\n",
       "      <td>CLT</td>\n",
       "      <td>False</td>\n",
       "      <td>False</td>\n",
       "      <td>1246</td>\n",
       "      <td>1248.0</td>\n",
       "      <td>2.0</td>\n",
       "      <td>2.0</td>\n",
       "      <td>...</td>\n",
       "      <td>1325.0</td>\n",
       "      <td>1351.0</td>\n",
       "      <td>14.0</td>\n",
       "      <td>1355</td>\n",
       "      <td>10.0</td>\n",
       "      <td>0.0</td>\n",
       "      <td>0.0</td>\n",
       "      <td>1300-1359</td>\n",
       "      <td>1</td>\n",
       "      <td>0.0</td>\n",
       "    </tr>\n",
       "    <tr>\n",
       "      <th>21484239</th>\n",
       "      <td>2021-01-16</td>\n",
       "      <td>Endeavor Air Inc.</td>\n",
       "      <td>DTW</td>\n",
       "      <td>TYS</td>\n",
       "      <td>False</td>\n",
       "      <td>False</td>\n",
       "      <td>1025</td>\n",
       "      <td>1020.0</td>\n",
       "      <td>0.0</td>\n",
       "      <td>-5.0</td>\n",
       "      <td>...</td>\n",
       "      <td>1047.0</td>\n",
       "      <td>1149.0</td>\n",
       "      <td>3.0</td>\n",
       "      <td>1208</td>\n",
       "      <td>-16.0</td>\n",
       "      <td>0.0</td>\n",
       "      <td>-2.0</td>\n",
       "      <td>1200-1259</td>\n",
       "      <td>2</td>\n",
       "      <td>0.0</td>\n",
       "    </tr>\n",
       "    <tr>\n",
       "      <th>4331070</th>\n",
       "      <td>2018-07-18</td>\n",
       "      <td>Southwest Airlines Co.</td>\n",
       "      <td>MKE</td>\n",
       "      <td>LAS</td>\n",
       "      <td>False</td>\n",
       "      <td>False</td>\n",
       "      <td>2000</td>\n",
       "      <td>1955.0</td>\n",
       "      <td>0.0</td>\n",
       "      <td>-5.0</td>\n",
       "      <td>...</td>\n",
       "      <td>2007.0</td>\n",
       "      <td>2126.0</td>\n",
       "      <td>8.0</td>\n",
       "      <td>2145</td>\n",
       "      <td>-11.0</td>\n",
       "      <td>0.0</td>\n",
       "      <td>-1.0</td>\n",
       "      <td>2100-2159</td>\n",
       "      <td>7</td>\n",
       "      <td>0.0</td>\n",
       "    </tr>\n",
       "    <tr>\n",
       "      <th>22233210</th>\n",
       "      <td>2021-08-26</td>\n",
       "      <td>American Airlines Inc.</td>\n",
       "      <td>DCA</td>\n",
       "      <td>BOS</td>\n",
       "      <td>False</td>\n",
       "      <td>False</td>\n",
       "      <td>1000</td>\n",
       "      <td>956.0</td>\n",
       "      <td>0.0</td>\n",
       "      <td>-4.0</td>\n",
       "      <td>...</td>\n",
       "      <td>1009.0</td>\n",
       "      <td>1118.0</td>\n",
       "      <td>7.0</td>\n",
       "      <td>1128</td>\n",
       "      <td>-3.0</td>\n",
       "      <td>0.0</td>\n",
       "      <td>-1.0</td>\n",
       "      <td>1100-1159</td>\n",
       "      <td>2</td>\n",
       "      <td>0.0</td>\n",
       "    </tr>\n",
       "    <tr>\n",
       "      <th>16127486</th>\n",
       "      <td>2020-07-23</td>\n",
       "      <td>Endeavor Air Inc.</td>\n",
       "      <td>DTW</td>\n",
       "      <td>AZO</td>\n",
       "      <td>False</td>\n",
       "      <td>False</td>\n",
       "      <td>1545</td>\n",
       "      <td>1540.0</td>\n",
       "      <td>0.0</td>\n",
       "      <td>-5.0</td>\n",
       "      <td>...</td>\n",
       "      <td>1555.0</td>\n",
       "      <td>1621.0</td>\n",
       "      <td>6.0</td>\n",
       "      <td>1632</td>\n",
       "      <td>-5.0</td>\n",
       "      <td>0.0</td>\n",
       "      <td>-1.0</td>\n",
       "      <td>1600-1659</td>\n",
       "      <td>1</td>\n",
       "      <td>0.0</td>\n",
       "    </tr>\n",
       "    <tr>\n",
       "      <th>11046246</th>\n",
       "      <td>2019-07-05</td>\n",
       "      <td>Comair Inc.</td>\n",
       "      <td>TRI</td>\n",
       "      <td>CLT</td>\n",
       "      <td>False</td>\n",
       "      <td>False</td>\n",
       "      <td>534</td>\n",
       "      <td>519.0</td>\n",
       "      <td>0.0</td>\n",
       "      <td>-15.0</td>\n",
       "      <td>...</td>\n",
       "      <td>531.0</td>\n",
       "      <td>554.0</td>\n",
       "      <td>16.0</td>\n",
       "      <td>637</td>\n",
       "      <td>-27.0</td>\n",
       "      <td>0.0</td>\n",
       "      <td>-2.0</td>\n",
       "      <td>0600-0659</td>\n",
       "      <td>1</td>\n",
       "      <td>0.0</td>\n",
       "    </tr>\n",
       "    <tr>\n",
       "      <th>6232762</th>\n",
       "      <td>2019-04-08</td>\n",
       "      <td>Republic Airlines</td>\n",
       "      <td>PVD</td>\n",
       "      <td>DCA</td>\n",
       "      <td>False</td>\n",
       "      <td>False</td>\n",
       "      <td>1425</td>\n",
       "      <td>1422.0</td>\n",
       "      <td>0.0</td>\n",
       "      <td>-3.0</td>\n",
       "      <td>...</td>\n",
       "      <td>1440.0</td>\n",
       "      <td>1553.0</td>\n",
       "      <td>8.0</td>\n",
       "      <td>1559</td>\n",
       "      <td>2.0</td>\n",
       "      <td>0.0</td>\n",
       "      <td>0.0</td>\n",
       "      <td>1500-1559</td>\n",
       "      <td>2</td>\n",
       "      <td>0.0</td>\n",
       "    </tr>\n",
       "    <tr>\n",
       "      <th>27772632</th>\n",
       "      <td>2022-06-03</td>\n",
       "      <td>Southwest Airlines Co.</td>\n",
       "      <td>ORD</td>\n",
       "      <td>FLL</td>\n",
       "      <td>False</td>\n",
       "      <td>False</td>\n",
       "      <td>1350</td>\n",
       "      <td>1405.0</td>\n",
       "      <td>15.0</td>\n",
       "      <td>15.0</td>\n",
       "      <td>...</td>\n",
       "      <td>1420.0</td>\n",
       "      <td>1802.0</td>\n",
       "      <td>4.0</td>\n",
       "      <td>1750</td>\n",
       "      <td>16.0</td>\n",
       "      <td>1.0</td>\n",
       "      <td>1.0</td>\n",
       "      <td>1700-1759</td>\n",
       "      <td>5</td>\n",
       "      <td>0.0</td>\n",
       "    </tr>\n",
       "    <tr>\n",
       "      <th>12727992</th>\n",
       "      <td>2019-11-05</td>\n",
       "      <td>United Air Lines Inc.</td>\n",
       "      <td>IAH</td>\n",
       "      <td>SFO</td>\n",
       "      <td>False</td>\n",
       "      <td>False</td>\n",
       "      <td>1645</td>\n",
       "      <td>1652.0</td>\n",
       "      <td>7.0</td>\n",
       "      <td>7.0</td>\n",
       "      <td>...</td>\n",
       "      <td>1707.0</td>\n",
       "      <td>1840.0</td>\n",
       "      <td>6.0</td>\n",
       "      <td>1904</td>\n",
       "      <td>-18.0</td>\n",
       "      <td>0.0</td>\n",
       "      <td>-2.0</td>\n",
       "      <td>1900-1959</td>\n",
       "      <td>7</td>\n",
       "      <td>0.0</td>\n",
       "    </tr>\n",
       "    <tr>\n",
       "      <th>16906191</th>\n",
       "      <td>2020-01-25</td>\n",
       "      <td>Republic Airlines</td>\n",
       "      <td>MCI</td>\n",
       "      <td>PHL</td>\n",
       "      <td>False</td>\n",
       "      <td>False</td>\n",
       "      <td>1054</td>\n",
       "      <td>1045.0</td>\n",
       "      <td>0.0</td>\n",
       "      <td>-9.0</td>\n",
       "      <td>...</td>\n",
       "      <td>1101.0</td>\n",
       "      <td>1415.0</td>\n",
       "      <td>5.0</td>\n",
       "      <td>1434</td>\n",
       "      <td>-14.0</td>\n",
       "      <td>0.0</td>\n",
       "      <td>-1.0</td>\n",
       "      <td>1400-1459</td>\n",
       "      <td>5</td>\n",
       "      <td>0.0</td>\n",
       "    </tr>\n",
       "  </tbody>\n",
       "</table>\n",
       "<p>10 rows × 61 columns</p>\n",
       "</div>"
      ],
      "text/plain": [
       "         FlightDate                      Airline Origin Dest  Cancelled  \\\n",
       "27079413 2022-05-02  Capital Cargo International    GSP  CLT      False   \n",
       "21484239 2021-01-16            Endeavor Air Inc.    DTW  TYS      False   \n",
       "4331070  2018-07-18       Southwest Airlines Co.    MKE  LAS      False   \n",
       "22233210 2021-08-26       American Airlines Inc.    DCA  BOS      False   \n",
       "16127486 2020-07-23            Endeavor Air Inc.    DTW  AZO      False   \n",
       "11046246 2019-07-05                  Comair Inc.    TRI  CLT      False   \n",
       "6232762  2019-04-08            Republic Airlines    PVD  DCA      False   \n",
       "27772632 2022-06-03       Southwest Airlines Co.    ORD  FLL      False   \n",
       "12727992 2019-11-05        United Air Lines Inc.    IAH  SFO      False   \n",
       "16906191 2020-01-25            Republic Airlines    MCI  PHL      False   \n",
       "\n",
       "          Diverted  CRSDepTime  DepTime  DepDelayMinutes  DepDelay  ...  \\\n",
       "27079413     False        1246   1248.0              2.0       2.0  ...   \n",
       "21484239     False        1025   1020.0              0.0      -5.0  ...   \n",
       "4331070      False        2000   1955.0              0.0      -5.0  ...   \n",
       "22233210     False        1000    956.0              0.0      -4.0  ...   \n",
       "16127486     False        1545   1540.0              0.0      -5.0  ...   \n",
       "11046246     False         534    519.0              0.0     -15.0  ...   \n",
       "6232762      False        1425   1422.0              0.0      -3.0  ...   \n",
       "27772632     False        1350   1405.0             15.0      15.0  ...   \n",
       "12727992     False        1645   1652.0              7.0       7.0  ...   \n",
       "16906191     False        1054   1045.0              0.0      -9.0  ...   \n",
       "\n",
       "          WheelsOff  WheelsOn  TaxiIn  CRSArrTime  ArrDelay  ArrDel15  \\\n",
       "27079413     1325.0    1351.0    14.0        1355      10.0       0.0   \n",
       "21484239     1047.0    1149.0     3.0        1208     -16.0       0.0   \n",
       "4331070      2007.0    2126.0     8.0        2145     -11.0       0.0   \n",
       "22233210     1009.0    1118.0     7.0        1128      -3.0       0.0   \n",
       "16127486     1555.0    1621.0     6.0        1632      -5.0       0.0   \n",
       "11046246      531.0     554.0    16.0         637     -27.0       0.0   \n",
       "6232762      1440.0    1553.0     8.0        1559       2.0       0.0   \n",
       "27772632     1420.0    1802.0     4.0        1750      16.0       1.0   \n",
       "12727992     1707.0    1840.0     6.0        1904     -18.0       0.0   \n",
       "16906191     1101.0    1415.0     5.0        1434     -14.0       0.0   \n",
       "\n",
       "          ArrivalDelayGroups  ArrTimeBlk  DistanceGroup  DivAirportLandings  \n",
       "27079413                 0.0   1300-1359              1                 0.0  \n",
       "21484239                -2.0   1200-1259              2                 0.0  \n",
       "4331070                 -1.0   2100-2159              7                 0.0  \n",
       "22233210                -1.0   1100-1159              2                 0.0  \n",
       "16127486                -1.0   1600-1659              1                 0.0  \n",
       "11046246                -2.0   0600-0659              1                 0.0  \n",
       "6232762                  0.0   1500-1559              2                 0.0  \n",
       "27772632                 1.0   1700-1759              5                 0.0  \n",
       "12727992                -2.0   1900-1959              7                 0.0  \n",
       "16906191                -1.0   1400-1459              5                 0.0  \n",
       "\n",
       "[10 rows x 61 columns]"
      ]
     },
     "execution_count": 7,
     "metadata": {},
     "output_type": "execute_result"
    }
   ],
   "source": [
    "df = pd.DataFrame()\n",
    "for f in parquet_files:\n",
    "    x = pd.read_parquet(f)\n",
    "    df = pd.concat([df, x], ignore_index=True)\n"
   ]
  },
  {
   "cell_type": "code",
   "execution_count": 8,
   "metadata": {},
   "outputs": [
    {
     "name": "stdout",
     "output_type": "stream",
     "text": [
      "number of rows =  29193782\n",
      "number of columns =  61\n",
      "header 61\n",
      "['FlightDate', 'Airline', 'Origin', 'Dest', 'Cancelled', 'Diverted', 'CRSDepTime', 'DepTime', 'DepDelayMinutes', 'DepDelay', 'ArrTime', 'ArrDelayMinutes', 'AirTime', 'CRSElapsedTime', 'ActualElapsedTime', 'Distance', 'Year', 'Quarter', 'Month', 'DayofMonth', 'DayOfWeek', 'Marketing_Airline_Network', 'Operated_or_Branded_Code_Share_Partners', 'DOT_ID_Marketing_Airline', 'IATA_Code_Marketing_Airline', 'Flight_Number_Marketing_Airline', 'Operating_Airline', 'DOT_ID_Operating_Airline', 'IATA_Code_Operating_Airline', 'Tail_Number', 'Flight_Number_Operating_Airline', 'OriginAirportID', 'OriginAirportSeqID', 'OriginCityMarketID', 'OriginCityName', 'OriginState', 'OriginStateFips', 'OriginStateName', 'OriginWac', 'DestAirportID', 'DestAirportSeqID', 'DestCityMarketID', 'DestCityName', 'DestState', 'DestStateFips', 'DestStateName', 'DestWac', 'DepDel15', 'DepartureDelayGroups', 'DepTimeBlk', 'TaxiOut', 'WheelsOff', 'WheelsOn', 'TaxiIn', 'CRSArrTime', 'ArrDelay', 'ArrDel15', 'ArrivalDelayGroups', 'ArrTimeBlk', 'DistanceGroup', 'DivAirportLandings']\n"
     ]
    }
   ],
   "source": [
    "df.sample(10)\n",
    "\n",
    "print('number of rows = ', len(df.index))\n",
    "print('number of columns = ', len(df.columns))\n",
    "\n",
    "header = df.columns.to_list()\n",
    "print('header', len(header))\n",
    "print(header)"
   ]
  },
  {
   "cell_type": "markdown",
   "metadata": {},
   "source": [
    "## plot the data"
   ]
  },
  {
   "cell_type": "code",
   "execution_count": 17,
   "metadata": {},
   "outputs": [
    {
     "data": {
      "image/png": "[encoded data removed]",
      "text/plain": [
       "<Figure size 432x288 with 1 Axes>"
      ]
     },
     "metadata": {
      "needs_background": "light"
     },
     "output_type": "display_data"
    },
    {
     "data": {
      "image/png": "[encoded data removed]",
      "text/plain": [
       "<Figure size 432x288 with 1 Axes>"
      ]
     },
     "metadata": {
      "needs_background": "light"
     },
     "output_type": "display_data"
    },
    {
     "data": {
      "image/png": "[encoded data removed]",
      "text/plain": [
       "<Figure size 432x288 with 1 Axes>"
      ]
     },
     "metadata": {
      "needs_background": "light"
     },
     "output_type": "display_data"
    },
    {
     "data": {
      "image/png": "[encoded data removed]",
      "text/plain": [
       "<Figure size 432x288 with 1 Axes>"
      ]
     },
     "metadata": {
      "needs_background": "light"
     },
     "output_type": "display_data"
    },
    {
     "data": {
      "image/png": "[encoded data removed]",
      "text/plain": [
       "<Figure size 432x288 with 1 Axes>"
      ]
     },
     "metadata": {
      "needs_background": "light"
     },
     "output_type": "display_data"
    }
   ],
   "source": [
    "years = [2018, 2019, 2020, 2021, 2022]\n",
    "for year in years:\n",
    "    expr = f\"Year == {year} and DepDelayMinutes > 1 and DepDelayMinutes < 61\"\n",
    "    title = \"Distribution of Flight Delays < 60 Min in \" + str(year)\n",
    "    df.query(expr)[\"DepDelayMinutes\"].plot(kind=\"hist\", bins=30, title=title)\n",
    "    plt.show()"
   ]
  },
  {
   "cell_type": "code",
   "execution_count": 26,
   "metadata": {},
   "outputs": [
    {
     "data": {
      "image/png": "[encoded data removed]",
      "text/plain": [
       "<Figure size 720x360 with 1 Axes>"
      ]
     },
     "metadata": {
      "needs_background": "light"
     },
     "output_type": "display_data"
    }
   ],
   "source": [
    "x = pd.DataFrame({\n",
    "    'Year':[2018, 2019, 2020, 2021, 2022],\n",
    "    'Cancelled':[0, 0, 0, 0, 0]\n",
    "})\n",
    "x.set_index('Year', inplace = True)\n",
    "\n",
    "years = [2018, 2019, 2020, 2021, 2022]\n",
    "for year in years:\n",
    "    expr = f\"Year == {year} and Cancelled == 1\"\n",
    "    x.loc[year] = df.query(expr)[\"Year\"].count()\n",
    "    \n",
    "x.plot(kind=\"barh\", figsize=(10, 5), title = \"Distribution of Cancelled\")\n",
    "plt.show() "
   ]
  }
 ],
 "metadata": {
  "interpreter": {
   "hash": "513dc2e41d739bb2c947903f3c0bbf636d03aa53ab50e61c694a27481c81805e"
  },
  "kernelspec": {
   "display_name": "Python 3.8.8 64-bit ('base': conda)",
   "name": "python3"
  },
  "language_info": {
   "codemirror_mode": {
    "name": "ipython",
    "version": 3
   },
   "file_extension": ".py",
   "mimetype": "text/x-python",
   "name": "python",
   "nbconvert_exporter": "python",
   "pygments_lexer": "ipython3",
   "version": "3.8.8"
  },
  "orig_nbformat": 4
 },
 "nbformat": 4,
 "nbformat_minor": 2
}
